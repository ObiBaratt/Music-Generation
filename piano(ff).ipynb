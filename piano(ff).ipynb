{
 "cells": [
  {
   "cell_type": "code",
   "execution_count": 24,
   "outputs": [],
   "source": [
    "import glob\n",
    "import pickle\n",
    "import numpy\n",
    "from music21 import converter, instrument, note, chord\n",
    "from keras.models import Sequential\n",
    "from keras.layers import Dense\n",
    "from keras.layers import Dropout\n",
    "from keras.layers import LSTM\n",
    "from keras.layers import Activation\n",
    "from keras.layers import BatchNormalization as BatchNorm\n",
    "from keras.utils import np_utils\n",
    "from keras.callbacks import ModelCheckpoint"
   ],
   "metadata": {
    "collapsed": false,
    "pycharm": {
     "name": "#%%\n"
    }
   }
  },
  {
   "cell_type": "code",
   "execution_count": 26,
   "outputs": [
    {
     "name": "stdout",
     "output_type": "stream",
     "text": [
      "Parsing midi_songs\\0fithos.mid\n",
      "Parsing midi_songs\\8.mid\n",
      "Parsing midi_songs\\ahead_on_our_way_piano.mid\n",
      "Parsing midi_songs\\AT.mid\n",
      "Parsing midi_songs\\balamb.mid\n",
      "Parsing midi_songs\\bcm.mid\n",
      "Parsing midi_songs\\BlueStone_LastDungeon.mid\n",
      "Parsing midi_songs\\braska.mid\n",
      "Parsing midi_songs\\caitsith.mid\n",
      "Parsing midi_songs\\Cids.mid\n",
      "Parsing midi_songs\\cosmo.mid\n",
      "Parsing midi_songs\\costadsol.mid\n",
      "Parsing midi_songs\\dayafter.mid\n",
      "Parsing midi_songs\\decisive.mid\n",
      "Parsing midi_songs\\dontbeafraid.mid\n",
      "Parsing midi_songs\\DOS.mid\n",
      "Parsing midi_songs\\electric_de_chocobo.mid\n",
      "Parsing midi_songs\\Eternal_Harvest.mid\n",
      "Parsing midi_songs\\EyesOnMePiano.mid\n",
      "Parsing midi_songs\\ff11_awakening_piano.mid\n",
      "Parsing midi_songs\\ff1battp.mid\n",
      "Parsing midi_songs\\FF3_Battle_(Piano).mid\n",
      "Parsing midi_songs\\FF3_Third_Phase_Final_(Piano).mid\n",
      "Parsing midi_songs\\ff4-airship.mid\n",
      "Parsing midi_songs\\Ff4-BattleLust.mid\n",
      "Parsing midi_songs\\ff4-fight1.mid\n",
      "Parsing midi_songs\\ff4-town.mid\n",
      "Parsing midi_songs\\FF4.mid\n",
      "Parsing midi_songs\\ff4pclov.mid\n",
      "Parsing midi_songs\\ff4_piano_collections-main_theme.mid\n",
      "Parsing midi_songs\\FF6epitaph_piano.mid\n",
      "Parsing midi_songs\\ff6shap.mid\n",
      "Parsing midi_songs\\Ff7-Cinco.mid\n",
      "Parsing midi_songs\\Ff7-Jenova_Absolute.mid\n",
      "Parsing midi_songs\\ff7-mainmidi.mid\n",
      "Parsing midi_songs\\Ff7-One_Winged.mid\n",
      "Parsing midi_songs\\ff7themep.mid\n",
      "Parsing midi_songs\\ff8-lfp.mid\n",
      "Parsing midi_songs\\FF8_Shuffle_or_boogie_pc.mid\n",
      "Parsing midi_songs\\FFIII_Edgar_And_Sabin_Piano.mid\n",
      "Parsing midi_songs\\FFIXQuMarshP.mid\n",
      "Parsing midi_songs\\FFIX_Piano.mid\n",
      "Parsing midi_songs\\FFVII_BATTLE.mid\n",
      "Parsing midi_songs\\FFX_-_Ending_Theme_(Piano_Version)_-_by_Angel_FF.mid\n",
      "Parsing midi_songs\\Fiend_Battle_(Piano).mid\n",
      "Parsing midi_songs\\Fierce_Battle_(Piano).mid\n",
      "Parsing midi_songs\\figaro.mid\n",
      "Parsing midi_songs\\Finalfantasy5gilgameshp.mid\n",
      "Parsing midi_songs\\Finalfantasy6fanfarecomplete.mid\n",
      "Parsing midi_songs\\Final_Fantasy_7_-_Judgement_Day_Piano.mid\n",
      "Parsing midi_songs\\Final_Fantasy_Matouyas_Cave_Piano.mid\n",
      "Parsing midi_songs\\fortresscondor.mid\n",
      "Parsing midi_songs\\Fyw_piano.mid\n",
      "Parsing midi_songs\\gerudo.mid\n",
      "Parsing midi_songs\\goldsaucer.mid\n",
      "Parsing midi_songs\\Gold_Silver_Rival_Battle.mid\n",
      "Parsing midi_songs\\great_war.mid\n",
      "Parsing midi_songs\\HighwindTakestotheSkies.mid\n",
      "Parsing midi_songs\\In_Zanarkand.mid\n",
      "Parsing midi_songs\\JENOVA.mid\n",
      "Parsing midi_songs\\Kingdom_Hearts_Dearly_Beloved.mid\n",
      "Parsing midi_songs\\Kingdom_Hearts_Traverse_Town.mid\n",
      "Parsing midi_songs\\Life_Stream.mid\n",
      "Parsing midi_songs\\lurk_in_dark.mid\n",
      "Parsing midi_songs\\mining.mid\n",
      "Parsing midi_songs\\Oppressed.mid\n",
      "Parsing midi_songs\\OTD5YA.mid\n",
      "Parsing midi_songs\\path_of_repentance.mid\n",
      "Parsing midi_songs\\pkelite4.mid\n",
      "Parsing midi_songs\\Rachel_Piano_tempofix.mid\n",
      "Parsing midi_songs\\redwings.mid\n",
      "Parsing midi_songs\\relmstheme-piano.mid\n",
      "Parsing midi_songs\\roseofmay-piano.mid\n",
      "Parsing midi_songs\\rufus.mid\n",
      "Parsing midi_songs\\Rydia_pc.mid\n",
      "Parsing midi_songs\\sandy.mid\n",
      "Parsing midi_songs\\sera_.mid\n",
      "Parsing midi_songs\\sobf.mid\n",
      "Parsing midi_songs\\Still_Alive-1.mid\n",
      "Parsing midi_songs\\Suteki_Da_Ne_(Piano_Version).mid\n",
      "Parsing midi_songs\\thenightmarebegins.mid\n",
      "Parsing midi_songs\\thoughts.mid\n",
      "Parsing midi_songs\\tifap.mid\n",
      "Parsing midi_songs\\tpirtsd-piano.mid\n",
      "Parsing midi_songs\\traitor.mid\n",
      "Parsing midi_songs\\ultimafro.mid\n",
      "Parsing midi_songs\\ultros.mid\n",
      "Parsing midi_songs\\VincentPiano.mid\n",
      "Parsing midi_songs\\ViviinAlexandria.mid\n",
      "Parsing midi_songs\\waltz_de_choco.mid\n",
      "Parsing midi_songs\\Zelda_Overworld.mid\n",
      "Parsing midi_songs\\z_aeristhemepiano.mid\n"
     ]
    }
   ],
   "source": [
    "notes = []\n",
    "\n",
    "for file in glob.glob(\"midi_songs/*.mid\"):\n",
    "    midi = converter.parse(file)\n",
    "\n",
    "    print(\"Parsing %s\" % file)\n",
    "\n",
    "    notes_to_parse = None\n",
    "\n",
    "    try:\n",
    "        s2 = instrument.partitionByInstrument(midi)\n",
    "        notes_to_parse = s2.parts[0].recurse()\n",
    "    except:\n",
    "        notes_to_parse = midi.flat.notes\n",
    "\n",
    "    for element in notes_to_parse:\n",
    "        if isinstance(element, note.Note):\n",
    "            notes.append(str(element.pitch))\n",
    "        elif isinstance(element, chord.Chord):\n",
    "            notes.append('.'.join(str(n) for n in element.normalOrder))"
   ],
   "metadata": {
    "collapsed": false,
    "pycharm": {
     "name": "#%%\n"
    }
   }
  },
  {
   "cell_type": "code",
   "execution_count": 27,
   "outputs": [
    {
     "data": {
      "text/plain": "326"
     },
     "execution_count": 27,
     "metadata": {},
     "output_type": "execute_result"
    }
   ],
   "source": [
    "n_vocab = len(set(notes))\n",
    "n_vocab"
   ],
   "metadata": {
    "collapsed": false,
    "pycharm": {
     "name": "#%%\n"
    }
   }
  },
  {
   "cell_type": "code",
   "execution_count": 30,
   "outputs": [],
   "source": [
    "sequence_length = 100\n",
    "\n",
    "pitchnames = sorted(set(item for item in notes))\n",
    "\n",
    "note_to_int = dict((note, number) for number, note in enumerate(pitchnames))\n",
    "\n",
    "network_input = []\n",
    "network_output = []\n",
    "\n",
    "for i in range(0, len(notes) - sequence_length, 1):\n",
    "    sequence_in = notes[i:i + sequence_length]\n",
    "    sequence_out = notes[i + sequence_length]\n",
    "    network_input.append([note_to_int[char] for char in sequence_in])\n",
    "    network_output.append(note_to_int[sequence_out])\n",
    "\n",
    "n_patterns = len(network_input)\n",
    "\n",
    "network_input = numpy.reshape(network_input, (n_patterns, sequence_length, 1))\n",
    "\n",
    "network_input = network_input / float(n_vocab)\n",
    "\n",
    "network_output = np_utils.to_categorical(network_output)"
   ],
   "metadata": {
    "collapsed": false,
    "pycharm": {
     "name": "#%%\n"
    }
   }
  },
  {
   "cell_type": "code",
   "execution_count": 31,
   "outputs": [],
   "source": [
    "model = Sequential()\n",
    "model.add(LSTM(\n",
    "    512,\n",
    "    input_shape=(network_input.shape[1], network_input.shape[2]),\n",
    "    recurrent_dropout=0.3,\n",
    "    return_sequences=True\n",
    "))\n",
    "model.add(LSTM(512, return_sequences=True, recurrent_dropout=0.3, ))\n",
    "model.add(LSTM(512))\n",
    "model.add(BatchNorm())\n",
    "model.add(Dropout(0.3))\n",
    "model.add(Dense(256))\n",
    "model.add(Activation('relu'))\n",
    "model.add(BatchNorm())\n",
    "model.add(Dropout(0.3))\n",
    "model.add(Dense(n_vocab))\n",
    "model.add(Activation('softmax'))\n",
    "model.compile(loss='categorical_crossentropy', optimizer='rmsprop')"
   ],
   "metadata": {
    "collapsed": false,
    "pycharm": {
     "name": "#%%\n"
    }
   }
  },
  {
   "cell_type": "code",
   "execution_count": 32,
   "outputs": [],
   "source": [
    "filepath = \"weights-improvement-{epoch:02d}-{loss:.4f}-bigger.hdf5\"\n",
    "checkpoint = ModelCheckpoint(\n",
    "    filepath,\n",
    "    monitor='loss',\n",
    "    verbose=0,\n",
    "    save_best_only=True,\n",
    "    mode='min'\n",
    ")\n",
    "callbacks_list = [checkpoint]"
   ],
   "metadata": {
    "collapsed": false,
    "pycharm": {
     "name": "#%%\n"
    }
   }
  },
  {
   "cell_type": "code",
   "execution_count": null,
   "outputs": [],
   "source": [
    "model.fit(network_input, network_output, epochs=200, batch_size=128, callbacks=callbacks_list)"
   ],
   "metadata": {
    "collapsed": false,
    "pycharm": {
     "name": "#%%\n"
    }
   }
  }
 ],
 "metadata": {
  "kernelspec": {
   "display_name": "Python 3",
   "language": "python",
   "name": "python3"
  },
  "language_info": {
   "codemirror_mode": {
    "name": "ipython",
    "version": 2
   },
   "file_extension": ".py",
   "mimetype": "text/x-python",
   "name": "python",
   "nbconvert_exporter": "python",
   "pygments_lexer": "ipython2",
   "version": "2.7.6"
  }
 },
 "nbformat": 4,
 "nbformat_minor": 0
}